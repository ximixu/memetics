{
 "cells": [
  {
   "cell_type": "code",
   "execution_count": 1,
   "id": "46860317-7e1c-449a-abc3-2ce816a02afb",
   "metadata": {
    "editable": true,
    "slideshow": {
     "slide_type": ""
    },
    "tags": []
   },
   "outputs": [
    {
     "name": "stdout",
     "output_type": "stream",
     "text": [
      "@RichardCovetous https://t.co/knqLMreP9F\n",
      "...i guess this is also known as \"making your own company &amp; contracting out to a big company\"\n",
      "i would split big tech salary in half with someone if we can trade off working for 6 months and keep each other updated &amp; ramped up\n",
      "@nosilverv big accounts need chat moderators like on twitch. It's a really easy way to add value / grow your own following (if you understand the person's tweets &amp; can explain it to the drive by people). It's different types of work\n",
      "@banterrealism what would my digital clone say to yours, what would the second half of your tweet history say to your first half etc https://t.co/RjVHUyRs4d\n"
     ]
    }
   ],
   "source": [
    "# import a .json archive of tweets and extract the text\n",
    "import json\n",
    "with open('archive.json', 'r', encoding='utf-8') as f:\n",
    "    data = json.load(f)\n",
    "tweets_raw = data.get(\"tweets\", [])\n",
    "tweets_text = []\n",
    "for tweet in tweets_raw:\n",
    "    tweets_text.append(tweet[\"tweet\"].get(\"full_text\", \"\"))\n",
    "for i in range(5):\n",
    "    print(tweets_text[i])"
   ]
  },
  {
   "cell_type": "code",
   "execution_count": 2,
   "id": "7e2f9563-aa9a-436b-87b5-f76b3f26490d",
   "metadata": {},
   "outputs": [
    {
     "name": "stdout",
     "output_type": "stream",
     "text": [
      "23294\n"
     ]
    }
   ],
   "source": [
    "# generate embeddings from the text\n",
    "from sentence_transformers import SentenceTransformer\n",
    "model = SentenceTransformer('all-MiniLM-L6-v2')\n",
    "embeddings = model.encode(tweets_text)\n",
    "print(len(embeddings))"
   ]
  },
  {
   "cell_type": "code",
   "execution_count": 15,
   "id": "f7583147-eac4-4401-a228-11e0d2d1a249",
   "metadata": {},
   "outputs": [
    {
     "name": "stdout",
     "output_type": "stream",
     "text": [
      "1. this is so clever, memetic fence? https://t.co/5D1FAwpp7T\n",
      "\n",
      "2. next step: generate this list for everyone in the Twitter Community Archive, then make a list of everyone who tweets about \"Memetic Dynamics\" and \"Restless Pursuit of Meaning\" so we can all be friends https://t.co/uDMFRCcoT4 https://t.co/kRCYpVwsL9\n",
      "\n",
      "3. I'm telling you open source memetic engineering has got to be the way. It wasn't safe at any other point in history, but maybe, maybe we're at a point now where we can (and need to)?\n",
      "\n",
      "4. in a discord channel named \"culture science\", they whisper their secrets of memetic propagation dynamics: https://t.co/ylfVzTKLpF\n",
      "\n",
      "5. @forthrighter @Alphiloscorp @AbstractFairy added this as a comment to my \"narrative spears\" article! I think this sort of memetic engineering works better when it's true/useful/flexible\n",
      "\n",
      "(I think we can keep doing this, come up with a theory on what works, and see which attempts are successful)\n",
      "\n",
      "https://t.co/V5BgwKorR4\n",
      "\n",
      "6. @liz_love_lace What's that imgui paradigm again...?\n",
      "\n",
      "7. The core principle of my \"memetic engineering\" is this: I (personally) cannot know more or care more about the person than they can of themselves. They are the ultimate arbiter of what is good for them.\n",
      "\n",
      "8. It doesn't have to be mimetic warfare. Why not mimetic Olympics\n",
      "\n",
      "9. you can discover things by experimenting on yourself (like memetic engineering), cc @taijitu_sees\n",
      "\n",
      "https://t.co/LNUENXoyWL\n",
      "\n",
      "10. @leo_guinan Memetic economist!\n",
      "\n"
     ]
    }
   ],
   "source": [
    "from sklearn.metrics.pairwise import cosine_similarity\n",
    "import numpy as np\n",
    "\n",
    "query = \"memetics\"\n",
    "k = 10\n",
    "query_embedding = model.encode([query], convert_to_numpy=True)[0]\n",
    "\n",
    "similarities = cosine_similarity([query_embedding], embeddings)[0]\n",
    "top_indices = np.argsort(similarities)[-k:][::-1]  # Sort descending\n",
    "top_tweets = [tweets_text[i] for i in top_indices]\n",
    "for i, tweet in enumerate(top_tweets, 1):\n",
    "    print(f\"{i}. {tweet}\\n\")"
   ]
  }
 ],
 "metadata": {
  "kernelspec": {
   "display_name": "Python 3 (ipykernel)",
   "language": "python",
   "name": "python3"
  },
  "language_info": {
   "codemirror_mode": {
    "name": "ipython",
    "version": 3
   },
   "file_extension": ".py",
   "mimetype": "text/x-python",
   "name": "python",
   "nbconvert_exporter": "python",
   "pygments_lexer": "ipython3",
   "version": "3.12.3"
  }
 },
 "nbformat": 4,
 "nbformat_minor": 5
}
