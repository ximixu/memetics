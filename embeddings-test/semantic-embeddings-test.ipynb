{
 "cells": [
  {
   "cell_type": "code",
   "execution_count": 2,
   "id": "46860317-7e1c-449a-abc3-2ce816a02afb",
   "metadata": {
    "editable": true,
    "slideshow": {
     "slide_type": ""
    },
    "tags": []
   },
   "outputs": [
    {
     "name": "stdout",
     "output_type": "stream",
     "text": [
      "{'tweet': {'edit_info': {'initial': {'editTweetIds': ['1858937235288322214'], 'editableUntil': '2024-11-19T19:15:48.000Z', 'editsRemaining': '5', 'isEditEligible': False}}, 'retweeted': False, 'source': '<a href=\"http://twitter.com/download/android\" rel=\"nofollow\">Twitter for Android</a>', 'entities': {'hashtags': [], 'symbols': [], 'user_mentions': [{'name': 'Lucidity', 'screen_name': 'RichardCovetous', 'indices': ['0', '16'], 'id_str': '1635852752763928576', 'id': '1635852752763928576'}], 'urls': [{'url': 'https://t.co/knqLMreP9F', 'expanded_url': 'https://x.com/deepfates/status/1849480458578653246?t=Rv0BW4dP2U3PVEmIAf55Ig&s=19', 'display_url': 'x.com/deepfates/stat…', 'indices': ['17', '40']}]}, 'display_text_range': ['0', '40'], 'favorite_count': '0', 'in_reply_to_status_id_str': '1858928877021917621', 'id_str': '1858937235288322214', 'in_reply_to_user_id': '1635852752763928576', 'truncated': False, 'retweet_count': '0', 'id': '1858937235288322214', 'in_reply_to_status_id': '1858928877021917621', 'possibly_sensitive': False, 'created_at': 'Tue Nov 19 18:15:48 +0000 2024', 'favorited': False, 'full_text': '@RichardCovetous https://t.co/knqLMreP9F', 'lang': 'qme', 'in_reply_to_screen_name': 'RichardCovetous', 'in_reply_to_user_id_str': '1635852752763928576'}}\n",
      "{'tweet': {'edit_info': {'initial': {'editTweetIds': ['1858909407951704342'], 'editableUntil': '2024-11-19T17:25:14.000Z', 'editsRemaining': '5', 'isEditEligible': False}}, 'retweeted': False, 'source': '<a href=\"https://mobile.twitter.com\" rel=\"nofollow\">Twitter Web App</a>', 'entities': {'hashtags': [], 'symbols': [], 'user_mentions': [], 'urls': []}, 'display_text_range': ['0', '97'], 'favorite_count': '21', 'in_reply_to_status_id_str': '1858909406911754279', 'id_str': '1858909407951704342', 'in_reply_to_user_id': '1680757426889342977', 'truncated': False, 'retweet_count': '0', 'id': '1858909407951704342', 'in_reply_to_status_id': '1858909406911754279', 'created_at': 'Tue Nov 19 16:25:14 +0000 2024', 'favorited': False, 'full_text': '...i guess this is also known as \"making your own company &amp; contracting out to a big company\"', 'lang': 'en', 'in_reply_to_screen_name': 'DefenderOfBasic', 'in_reply_to_user_id_str': '1680757426889342977'}}\n",
      "{'tweet': {'edit_info': {'initial': {'editTweetIds': ['1858909406911754279'], 'editableUntil': '2024-11-19T17:25:14.000Z', 'editsRemaining': '5', 'isEditEligible': False}}, 'retweeted': False, 'source': '<a href=\"https://mobile.twitter.com\" rel=\"nofollow\">Twitter Web App</a>', 'entities': {'hashtags': [], 'symbols': [], 'user_mentions': [], 'urls': []}, 'display_text_range': ['0', '135'], 'favorite_count': '62', 'id_str': '1858909406911754279', 'truncated': False, 'retweet_count': '0', 'id': '1858909406911754279', 'created_at': 'Tue Nov 19 16:25:14 +0000 2024', 'favorited': False, 'full_text': 'i would split big tech salary in half with someone if we can trade off working for 6 months and keep each other updated &amp; ramped up', 'lang': 'en'}}\n",
      "{'tweet': {'edit_info': {'initial': {'editTweetIds': ['1858904666903294334'], 'editableUntil': '2024-11-19T17:06:24.000Z', 'editsRemaining': '5', 'isEditEligible': False}}, 'retweeted': False, 'source': '<a href=\"https://mobile.twitter.com\" rel=\"nofollow\">Twitter Web App</a>', 'entities': {'hashtags': [], 'symbols': [], 'user_mentions': [{'name': 'Guy', 'screen_name': 'nosilverv', 'indices': ['0', '10'], 'id_str': '1163743742764998658', 'id': '1163743742764998658'}], 'urls': []}, 'display_text_range': ['0', '236'], 'favorite_count': '3', 'in_reply_to_status_id_str': '1858858419144298859', 'id_str': '1858904666903294334', 'in_reply_to_user_id': '1163743742764998658', 'truncated': False, 'retweet_count': '0', 'id': '1858904666903294334', 'in_reply_to_status_id': '1858858419144298859', 'created_at': 'Tue Nov 19 16:06:24 +0000 2024', 'favorited': False, 'full_text': \"@nosilverv big accounts need chat moderators like on twitch. It's a really easy way to add value / grow your own following (if you understand the person's tweets &amp; can explain it to the drive by people). It's different types of work\", 'lang': 'en', 'in_reply_to_screen_name': 'nosilverv', 'in_reply_to_user_id_str': '1163743742764998658'}}\n",
      "{'tweet': {'edit_info': {'initial': {'editTweetIds': ['1858902743299076568'], 'editableUntil': '2024-11-19T16:58:45.000Z', 'editsRemaining': '5', 'isEditEligible': False}}, 'retweeted': False, 'source': '<a href=\"https://mobile.twitter.com\" rel=\"nofollow\">Twitter Web App</a>', 'entities': {'hashtags': [], 'symbols': [], 'user_mentions': [{'name': '∿ Sex Haver (21e8)', 'screen_name': 'banterrealism', 'indices': ['0', '14'], 'id_str': '1619494880622874624', 'id': '1619494880622874624'}], 'urls': [{'url': 'https://t.co/RjVHUyRs4d', 'expanded_url': 'https://x.com/DefenderOfBasic/status/1858121808446210119', 'display_url': 'x.com/DefenderOfBasi…', 'indices': ['133', '156']}]}, 'display_text_range': ['0', '156'], 'favorite_count': '1', 'in_reply_to_status_id_str': '1858902443939009008', 'id_str': '1858902743299076568', 'in_reply_to_user_id': '1680757426889342977', 'truncated': False, 'retweet_count': '0', 'id': '1858902743299076568', 'in_reply_to_status_id': '1858902443939009008', 'possibly_sensitive': False, 'created_at': 'Tue Nov 19 15:58:45 +0000 2024', 'favorited': False, 'full_text': '@banterrealism what would my digital clone say to yours, what would the second half of your tweet history say to your first half etc https://t.co/RjVHUyRs4d', 'lang': 'en', 'in_reply_to_screen_name': 'DefenderOfBasic', 'in_reply_to_user_id_str': '1680757426889342977'}}\n",
      "{'tweet': {'edit_info': {'initial': {'editTweetIds': ['1858902443939009008'], 'editableUntil': '2024-11-19T16:57:34.000Z', 'editsRemaining': '5', 'isEditEligible': False}}, 'retweeted': False, 'source': '<a href=\"https://mobile.twitter.com\" rel=\"nofollow\">Twitter Web App</a>', 'entities': {'hashtags': [], 'symbols': [], 'user_mentions': [{'name': '∿ Sex Haver (21e8)', 'screen_name': 'banterrealism', 'indices': ['0', '14'], 'id_str': '1619494880622874624', 'id': '1619494880622874624'}], 'urls': []}, 'display_text_range': ['0', '239'], 'favorite_count': '2', 'in_reply_to_status_id_str': '1858902258651410568', 'id_str': '1858902443939009008', 'in_reply_to_user_id': '1680757426889342977', 'truncated': False, 'retweet_count': '0', 'id': '1858902443939009008', 'in_reply_to_status_id': '1858902258651410568', 'created_at': 'Tue Nov 19 15:57:34 +0000 2024', 'favorited': False, 'full_text': \"@banterrealism (I think what's pushing me to say this is I feel like there's a lot of gold in your 15k posts, and I've only seen like 1% of it, and I want to make these games where we excavate each other's souls and make it easier and fun)\", 'lang': 'en', 'in_reply_to_screen_name': 'DefenderOfBasic', 'in_reply_to_user_id_str': '1680757426889342977'}}\n",
      "{'tweet': {'edit_info': {'initial': {'editTweetIds': ['1858902258651410568'], 'editableUntil': '2024-11-19T16:56:49.000Z', 'editsRemaining': '5', 'isEditEligible': False}}, 'retweeted': False, 'source': '<a href=\"https://mobile.twitter.com\" rel=\"nofollow\">Twitter Web App</a>', 'entities': {'hashtags': [], 'symbols': [], 'user_mentions': [{'name': '∿ Sex Haver (21e8)', 'screen_name': 'banterrealism', 'indices': ['0', '14'], 'id_str': '1619494880622874624', 'id': '1619494880622874624'}], 'urls': [{'url': 'https://t.co/P0GvR9deDZ', 'expanded_url': 'https://x.com/DefenderOfBasic/status/1847644334763774427', 'display_url': 'x.com/DefenderOfBasi…', 'indices': ['153', '176']}]}, 'display_text_range': ['0', '176'], 'favorite_count': '2', 'in_reply_to_status_id_str': '1858901521196347492', 'id_str': '1858902258651410568', 'in_reply_to_user_id': '1619494880622874624', 'truncated': False, 'retweet_count': '0', 'id': '1858902258651410568', 'in_reply_to_status_id': '1858901521196347492', 'possibly_sensitive': False, 'created_at': 'Tue Nov 19 15:56:49 +0000 2024', 'favorited': False, 'full_text': \"@banterrealism I want to take your archive and semantically find the most similar tweets to each other and make a game where people guess who is who's \\n\\nhttps://t.co/P0GvR9deDZ\", 'lang': 'en', 'in_reply_to_screen_name': 'banterrealism', 'in_reply_to_user_id_str': '1619494880622874624'}}\n",
      "{'tweet': {'edit_info': {'initial': {'editTweetIds': ['1858901160494604732'], 'editableUntil': '2024-11-19T16:52:28.000Z', 'editsRemaining': '5', 'isEditEligible': True}}, 'retweeted': False, 'source': '<a href=\"https://mobile.twitter.com\" rel=\"nofollow\">Twitter Web App</a>', 'entities': {'hashtags': [], 'symbols': [], 'user_mentions': [{'name': 'Abstract Fairy', 'screen_name': 'AbstractFairy', 'indices': ['59', '73'], 'id_str': '1256624514500374530', 'id': '1256624514500374530'}], 'urls': [{'url': 'https://t.co/W0i5JNbxy8', 'expanded_url': 'https://twitter.com/AbstractFairy/status/1858900581248553219', 'display_url': 'twitter.com/AbstractFairy/…', 'indices': ['213', '236']}]}, 'display_text_range': ['0', '236'], 'favorite_count': '5', 'id_str': '1858901160494604732', 'truncated': False, 'retweet_count': '0', 'id': '1858901160494604732', 'possibly_sensitive': False, 'created_at': 'Tue Nov 19 15:52:28 +0000 2024', 'favorited': False, 'full_text': 'one day we will have a \"twitter radio\" app where I tune to @AbstractFairy \\'s station, and if he is online (if his computer is on) it will be scraping tweets from his browser and publishing it to the open internet https://t.co/W0i5JNbxy8', 'lang': 'en'}}\n",
      "{'tweet': {'edit_info': {'initial': {'editTweetIds': ['1858900853295354322'], 'editableUntil': '2024-11-19T16:51:14.000Z', 'editsRemaining': '5', 'isEditEligible': False}}, 'retweeted': False, 'source': '<a href=\"https://mobile.twitter.com\" rel=\"nofollow\">Twitter Web App</a>', 'entities': {'user_mentions': [{'name': 'deepfates', 'screen_name': 'deepfates', 'indices': ['26', '36'], 'id_str': '3315205122', 'id': '3315205122'}], 'urls': [{'url': 'https://t.co/Syihieu7IJ', 'expanded_url': 'https://blot.im/', 'display_url': 'blot.im', 'indices': ['39', '62']}], 'symbols': [], 'media': [{'expanded_url': 'https://twitter.com/DefenderOfBasic/status/1858900853295354322/photo/1', 'indices': ['63', '86'], 'url': 'https://t.co/oVx7Yvnui1', 'media_url': 'http://pbs.twimg.com/media/GcwkdUlWMAAikRJ.jpg', 'id_str': '1858900832357330944', 'id': '1858900832357330944', 'media_url_https': 'https://pbs.twimg.com/media/GcwkdUlWMAAikRJ.jpg', 'sizes': {'small': {'w': '680', 'h': '400', 'resize': 'fit'}, 'medium': {'w': '1034', 'h': '608', 'resize': 'fit'}, 'large': {'w': '1034', 'h': '608', 'resize': 'fit'}, 'thumb': {'w': '150', 'h': '150', 'resize': 'crop'}}, 'type': 'photo', 'display_url': 'pic.twitter.com/oVx7Yvnui1'}], 'hashtags': []}, 'display_text_range': ['0', '86'], 'favorite_count': '8', 'in_reply_to_status_id_str': '1858900851361817042', 'id_str': '1858900853295354322', 'in_reply_to_user_id': '1680757426889342977', 'truncated': False, 'retweet_count': '1', 'id': '1858900853295354322', 'in_reply_to_status_id': '1858900851361817042', 'possibly_sensitive': False, 'created_at': 'Tue Nov 19 15:51:14 +0000 2024', 'favorited': False, 'full_text': 'found out about this from @deepfates \\n\\nhttps://t.co/Syihieu7IJ https://t.co/oVx7Yvnui1', 'lang': 'en', 'in_reply_to_screen_name': 'DefenderOfBasic', 'in_reply_to_user_id_str': '1680757426889342977', 'extended_entities': {'media': [{'expanded_url': 'https://twitter.com/DefenderOfBasic/status/1858900853295354322/photo/1', 'indices': ['63', '86'], 'url': 'https://t.co/oVx7Yvnui1', 'media_url': 'http://pbs.twimg.com/media/GcwkdUlWMAAikRJ.jpg', 'id_str': '1858900832357330944', 'id': '1858900832357330944', 'media_url_https': 'https://pbs.twimg.com/media/GcwkdUlWMAAikRJ.jpg', 'sizes': {'small': {'w': '680', 'h': '400', 'resize': 'fit'}, 'medium': {'w': '1034', 'h': '608', 'resize': 'fit'}, 'large': {'w': '1034', 'h': '608', 'resize': 'fit'}, 'thumb': {'w': '150', 'h': '150', 'resize': 'crop'}}, 'type': 'photo', 'display_url': 'pic.twitter.com/oVx7Yvnui1'}]}}}\n",
      "{'tweet': {'edit_info': {'initial': {'editTweetIds': ['1858900851361817042'], 'editableUntil': '2024-11-19T16:51:14.000Z', 'editsRemaining': '5', 'isEditEligible': False}}, 'retweeted': False, 'source': '<a href=\"https://mobile.twitter.com\" rel=\"nofollow\">Twitter Web App</a>', 'entities': {'user_mentions': [], 'urls': [], 'symbols': [], 'media': [{'expanded_url': 'https://twitter.com/DefenderOfBasic/status/1858900851361817042/photo/1', 'indices': ['191', '214'], 'url': 'https://t.co/Bwnat0b5eQ', 'media_url': 'http://pbs.twimg.com/media/GcwkP0QW4AAWEoD.png', 'id_str': '1858900600341061632', 'id': '1858900600341061632', 'media_url_https': 'https://pbs.twimg.com/media/GcwkP0QW4AAWEoD.png', 'sizes': {'small': {'w': '680', 'h': '410', 'resize': 'fit'}, 'thumb': {'w': '150', 'h': '150', 'resize': 'crop'}, 'medium': {'w': '906', 'h': '546', 'resize': 'fit'}, 'large': {'w': '906', 'h': '546', 'resize': 'fit'}}, 'type': 'photo', 'display_url': 'pic.twitter.com/Bwnat0b5eQ'}], 'hashtags': []}, 'display_text_range': ['0', '214'], 'favorite_count': '21', 'id_str': '1858900851361817042', 'truncated': False, 'retweet_count': '0', 'id': '1858900851361817042', 'possibly_sensitive': False, 'created_at': 'Tue Nov 19 15:51:14 +0000 2024', 'favorited': False, 'full_text': 'hell yeah, \"put things into a folder to publish it to the public internet\" is the way of the future. My mom could finally have an internet prescence without relying on on fb/twitter/whatever https://t.co/Bwnat0b5eQ', 'lang': 'en', 'extended_entities': {'media': [{'expanded_url': 'https://twitter.com/DefenderOfBasic/status/1858900851361817042/photo/1', 'indices': ['191', '214'], 'url': 'https://t.co/Bwnat0b5eQ', 'media_url': 'http://pbs.twimg.com/media/GcwkP0QW4AAWEoD.png', 'id_str': '1858900600341061632', 'id': '1858900600341061632', 'media_url_https': 'https://pbs.twimg.com/media/GcwkP0QW4AAWEoD.png', 'sizes': {'small': {'w': '680', 'h': '410', 'resize': 'fit'}, 'thumb': {'w': '150', 'h': '150', 'resize': 'crop'}, 'medium': {'w': '906', 'h': '546', 'resize': 'fit'}, 'large': {'w': '906', 'h': '546', 'resize': 'fit'}}, 'type': 'photo', 'display_url': 'pic.twitter.com/Bwnat0b5eQ'}]}}}\n"
     ]
    }
   ],
   "source": [
    "# import a .json archive of tweets and extract the text\n",
    "import json\n",
    "with open('archive.json', 'r', encoding='utf-8') as f:\n",
    "    data = json.load(f)\n",
    "tweets_raw = data.get(\"tweets\", [])\n",
    "tweets_text = []\n",
    "for tweet in tweets_raw:\n",
    "    tweets_text.append(tweet[\"tweet\"].get(\"full_text\", \"\"))\n",
    "for i in range(10):\n",
    "    print(tweets_raw[i])"
   ]
  },
  {
   "cell_type": "code",
   "execution_count": 2,
   "id": "7e2f9563-aa9a-436b-87b5-f76b3f26490d",
   "metadata": {},
   "outputs": [
    {
     "name": "stdout",
     "output_type": "stream",
     "text": [
      "23294\n"
     ]
    }
   ],
   "source": [
    "# generate embeddings from the text\n",
    "from sentence_transformers import SentenceTransformer\n",
    "model = SentenceTransformer('all-MiniLM-L6-v2')\n",
    "embeddings = model.encode(tweets_text)\n",
    "print(len(embeddings))"
   ]
  },
  {
   "cell_type": "code",
   "execution_count": 15,
   "id": "f7583147-eac4-4401-a228-11e0d2d1a249",
   "metadata": {},
   "outputs": [
    {
     "name": "stdout",
     "output_type": "stream",
     "text": [
      "1. this is so clever, memetic fence? https://t.co/5D1FAwpp7T\n",
      "\n",
      "2. next step: generate this list for everyone in the Twitter Community Archive, then make a list of everyone who tweets about \"Memetic Dynamics\" and \"Restless Pursuit of Meaning\" so we can all be friends https://t.co/uDMFRCcoT4 https://t.co/kRCYpVwsL9\n",
      "\n",
      "3. I'm telling you open source memetic engineering has got to be the way. It wasn't safe at any other point in history, but maybe, maybe we're at a point now where we can (and need to)?\n",
      "\n",
      "4. in a discord channel named \"culture science\", they whisper their secrets of memetic propagation dynamics: https://t.co/ylfVzTKLpF\n",
      "\n",
      "5. @forthrighter @Alphiloscorp @AbstractFairy added this as a comment to my \"narrative spears\" article! I think this sort of memetic engineering works better when it's true/useful/flexible\n",
      "\n",
      "(I think we can keep doing this, come up with a theory on what works, and see which attempts are successful)\n",
      "\n",
      "https://t.co/V5BgwKorR4\n",
      "\n",
      "6. @liz_love_lace What's that imgui paradigm again...?\n",
      "\n",
      "7. The core principle of my \"memetic engineering\" is this: I (personally) cannot know more or care more about the person than they can of themselves. They are the ultimate arbiter of what is good for them.\n",
      "\n",
      "8. It doesn't have to be mimetic warfare. Why not mimetic Olympics\n",
      "\n",
      "9. you can discover things by experimenting on yourself (like memetic engineering), cc @taijitu_sees\n",
      "\n",
      "https://t.co/LNUENXoyWL\n",
      "\n",
      "10. @leo_guinan Memetic economist!\n",
      "\n"
     ]
    }
   ],
   "source": [
    "from sklearn.metrics.pairwise import cosine_similarity\n",
    "import numpy as np\n",
    "\n",
    "query = \"memetics\"\n",
    "k = 10\n",
    "query_embedding = model.encode([query], convert_to_numpy=True)[0]\n",
    "\n",
    "similarities = cosine_similarity([query_embedding], embeddings)[0]\n",
    "top_indices = np.argsort(similarities)[-k:][::-1]  # Sort descending\n",
    "top_tweets = [tweets_text[i] for i in top_indices]\n",
    "for i, tweet in enumerate(top_tweets, 1):\n",
    "    print(f\"{i}. {tweet}\\n\")"
   ]
  }
 ],
 "metadata": {
  "kernelspec": {
   "display_name": "Python 3 (ipykernel)",
   "language": "python",
   "name": "python3"
  },
  "language_info": {
   "codemirror_mode": {
    "name": "ipython",
    "version": 3
   },
   "file_extension": ".py",
   "mimetype": "text/x-python",
   "name": "python",
   "nbconvert_exporter": "python",
   "pygments_lexer": "ipython3",
   "version": "3.12.3"
  }
 },
 "nbformat": 4,
 "nbformat_minor": 5
}
